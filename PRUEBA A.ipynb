{
 "cells": [
  {
   "cell_type": "code",
   "execution_count": null,
   "id": "1767d646",
   "metadata": {
    "_cell_guid": "b1076dfc-b9ad-4769-8c92-a6c4dae69d19",
    "_uuid": "8f2839f25d086af736a60e9eeb907d3b93b6e0e5",
    "execution": {
     "iopub.execute_input": "2022-08-11T08:00:19.522861Z",
     "iopub.status.busy": "2022-08-11T08:00:19.522095Z",
     "iopub.status.idle": "2022-08-11T08:00:19.538268Z",
     "shell.execute_reply": "2022-08-11T08:00:19.536760Z"
    },
    "papermill": {
     "duration": 0.03831,
     "end_time": "2022-08-11T08:00:19.541304",
     "exception": false,
     "start_time": "2022-08-11T08:00:19.502994",
     "status": "completed"
    },
    "tags": []
   },
   "outputs": [],
   "source": [
    "import numpy as np   # linear algebra\n",
    "import pandas as pd  # data processing, CSV file I/O (e.g. pd.read_csv)\n",
    "import seaborn as sns # data visualization library  \n",
    "import matplotlib.pyplot as plt\n",
    "#import warnings library\n",
    "import warnings\n",
    "# ignore all warnings\n",
    "warnings.filterwarnings('ignore')"
   ]
  },
  {
   "cell_type": "code",
   "execution_count": null,
   "id": "1b3f252b",
   "metadata": {
    "execution": {
     "iopub.execute_input": "2022-08-11T08:00:19.574722Z",
     "iopub.status.busy": "2022-08-11T08:00:19.573868Z",
     "iopub.status.idle": "2022-08-11T08:00:19.597984Z",
     "shell.execute_reply": "2022-08-11T08:00:19.596913Z"
    },
    "papermill": {
     "duration": 0.044308,
     "end_time": "2022-08-11T08:00:19.600681",
     "exception": false,
     "start_time": "2022-08-11T08:00:19.556373",
     "status": "completed"
    },
    "tags": []
   },
   "outputs": [],
   "source": [
    "data = pd.read_csv('https://raw.githubusercontent.com/miguelespiro22/Breast-Cancer-Wisconsin-Diagnostic-Data-Set/main/Data/data_prueba_a.csv',sep =\",\")"
   ]
  },
  {
   "cell_type": "code",
   "execution_count": null,
   "id": "084e5b52",
   "metadata": {
    "execution": {
     "iopub.execute_input": "2022-08-11T08:00:19.632270Z",
     "iopub.status.busy": "2022-08-11T08:00:19.631886Z",
     "iopub.status.idle": "2022-08-11T08:00:19.666881Z",
     "shell.execute_reply": "2022-08-11T08:00:19.665577Z"
    },
    "papermill": {
     "duration": 0.054633,
     "end_time": "2022-08-11T08:00:19.670163",
     "exception": false,
     "start_time": "2022-08-11T08:00:19.615530",
     "status": "completed"
    },
    "tags": []
   },
   "outputs": [],
   "source": [
    "data"
   ]
  },
  {
   "cell_type": "markdown",
   "id": "bc828eac",
   "metadata": {
    "papermill": {
     "duration": 0.01496,
     "end_time": "2022-08-11T08:00:19.700617",
     "exception": false,
     "start_time": "2022-08-11T08:00:19.685657",
     "status": "completed"
    },
    "tags": []
   },
   "source": [
    "# Data Observation and Preprocessing"
   ]
  },
  {
   "cell_type": "code",
   "execution_count": null,
   "id": "abfec0d1",
   "metadata": {
    "execution": {
     "iopub.execute_input": "2022-08-11T08:00:19.732886Z",
     "iopub.status.busy": "2022-08-11T08:00:19.732345Z",
     "iopub.status.idle": "2022-08-11T08:00:19.748968Z",
     "shell.execute_reply": "2022-08-11T08:00:19.747669Z"
    },
    "papermill": {
     "duration": 0.035709,
     "end_time": "2022-08-11T08:00:19.751498",
     "exception": false,
     "start_time": "2022-08-11T08:00:19.715789",
     "status": "completed"
    },
    "tags": []
   },
   "outputs": [],
   "source": [
    "data.head()"
   ]
  },
  {
   "cell_type": "code",
   "execution_count": null,
   "id": "0b8a694d",
   "metadata": {
    "execution": {
     "iopub.execute_input": "2022-08-11T08:00:19.785658Z",
     "iopub.status.busy": "2022-08-11T08:00:19.784542Z",
     "iopub.status.idle": "2022-08-11T08:00:19.809285Z",
     "shell.execute_reply": "2022-08-11T08:00:19.807642Z"
    },
    "papermill": {
     "duration": 0.044159,
     "end_time": "2022-08-11T08:00:19.811738",
     "exception": false,
     "start_time": "2022-08-11T08:00:19.767579",
     "status": "completed"
    },
    "tags": []
   },
   "outputs": [],
   "source": [
    "data.info()"
   ]
  },
  {
   "cell_type": "code",
   "execution_count": null,
   "id": "e0de022d",
   "metadata": {
    "execution": {
     "iopub.execute_input": "2022-08-11T08:00:19.846357Z",
     "iopub.status.busy": "2022-08-11T08:00:19.845061Z",
     "iopub.status.idle": "2022-08-11T08:00:19.898259Z",
     "shell.execute_reply": "2022-08-11T08:00:19.896794Z"
    },
    "papermill": {
     "duration": 0.073985,
     "end_time": "2022-08-11T08:00:19.901024",
     "exception": false,
     "start_time": "2022-08-11T08:00:19.827039",
     "status": "completed"
    },
    "tags": []
   },
   "outputs": [],
   "source": [
    "data.describe(include = 'all')"
   ]
  },
  {
   "cell_type": "code",
   "execution_count": null,
   "id": "9451f6a5",
   "metadata": {},
   "outputs": [],
   "source": [
    "data.drop(['id','Unnamed: 32'],axis=1,inplace=True)\n",
    "data"
   ]
  },
  {
   "cell_type": "code",
   "execution_count": null,
   "id": "14edca83",
   "metadata": {},
   "outputs": [],
   "source": [
    "y=data.diagnosis\n",
    "X=data.drop('diagnosis',axis=1)"
   ]
  },
  {
   "cell_type": "code",
   "execution_count": null,
   "id": "36d0c753",
   "metadata": {},
   "outputs": [],
   "source": [
    "y.unique()\n"
   ]
  },
  {
   "cell_type": "code",
   "execution_count": null,
   "id": "6af91a87",
   "metadata": {},
   "outputs": [],
   "source": [
    "X"
   ]
  },
  {
   "cell_type": "code",
   "execution_count": null,
   "id": "7dd55cba",
   "metadata": {
    "scrolled": true
   },
   "outputs": [],
   "source": [
    "B, M = y.value_counts()\n",
    "B, M = y.value_counts()\n",
    "print('Number of Benign: ',B)\n",
    "print('Number of Malignant : ',M)"
   ]
  },
  {
   "cell_type": "code",
   "execution_count": null,
   "id": "9ca3afe7",
   "metadata": {},
   "outputs": [],
   "source": [
    "X.describe()"
   ]
  },
  {
   "cell_type": "code",
   "execution_count": null,
   "id": "cdb19172",
   "metadata": {},
   "outputs": [],
   "source": [
    "plt.subplots(figsize=(18, 18))\n",
    "sns.heatmap(X.corr(), annot=True, linewidths=.5, fmt= '.1f')"
   ]
  },
  {
   "cell_type": "code",
   "execution_count": null,
   "id": "bde50f7f",
   "metadata": {},
   "outputs": [],
   "source": [
    "drop_list=['perimeter_mean','radius_mean','compactness_mean',\n",
    "           'concave points_mean','radius_se','perimeter_se',\n",
    "           'radius_worst','perimeter_worst','texture_worst',\n",
    "           'compactness_worst','concave points_worst','compactness_se',\n",
    "           'concave points_se','area_worst']\n",
    "X1=X.drop(drop_list,axis=1)\n",
    "X1.head()"
   ]
  },
  {
   "cell_type": "code",
   "execution_count": null,
   "id": "b6d627d9",
   "metadata": {},
   "outputs": [],
   "source": [
    "plt.subplots(figsize=(18, 18))\n",
    "sns.heatmap(X1.corr(), annot=True, linewidths=.5, fmt= '.1f')"
   ]
  },
  {
   "cell_type": "code",
   "execution_count": null,
   "id": "3285189b",
   "metadata": {},
   "outputs": [],
   "source": [
    "#modelo 1 RANDOM FOREST"
   ]
  },
  {
   "cell_type": "code",
   "execution_count": null,
   "id": "e3ad3679",
   "metadata": {},
   "outputs": [],
   "source": [
    "from sklearn.model_selection import train_test_split\n",
    "#test\n",
    "X_train, X_test, y_train, y_test = train_test_split(X1, y, test_size=0.3, random_state=42)"
   ]
  },
  {
   "cell_type": "code",
   "execution_count": null,
   "id": "7a50c711",
   "metadata": {},
   "outputs": [],
   "source": [
    "#training\n",
    "from sklearn.ensemble import RandomForestClassifier\n",
    "Cl_RF=RandomForestClassifier()\n",
    "Cl_RF=Cl_RF.fit(X_train,y_train)"
   ]
  },
  {
   "cell_type": "code",
   "execution_count": null,
   "id": "e7fff70f",
   "metadata": {},
   "outputs": [],
   "source": [
    "Y_pred=Cl_RF.predict(X_test)"
   ]
  },
  {
   "cell_type": "code",
   "execution_count": null,
   "id": "c232f16d",
   "metadata": {},
   "outputs": [],
   "source": [
    "# Accuracy\n",
    "from sklearn.metrics import accuracy_score\n",
    "AC=accuracy_score(y_test,Y_pred)\n",
    "print('The Accuracy : ',AC)\n",
    "from sklearn.metrics import confusion_matrix\n",
    "cm=confusion_matrix(y_test,Y_pred)\n",
    "\n",
    "sns.heatmap(cm,annot=True,fmt='d',)"
   ]
  },
  {
   "cell_type": "code",
   "execution_count": null,
   "id": "307d636e",
   "metadata": {},
   "outputs": [],
   "source": [
    "from sklearn.feature_selection import SelectKBest\n",
    "from sklearn.feature_selection import chi2"
   ]
  },
  {
   "cell_type": "code",
   "execution_count": null,
   "id": "937161d4",
   "metadata": {},
   "outputs": [],
   "source": [
    "select_feature = SelectKBest(chi2, k=5).fit(X_train, y_train)    # to find best 5 features \n",
    "print('Score list:', select_feature.scores_)   # we will take high scores ==> highest 5\n",
    "print('Feature list:', X_train.columns)  # all columns "
   ]
  },
  {
   "cell_type": "code",
   "execution_count": null,
   "id": "b9eb3340",
   "metadata": {},
   "outputs": [],
   "source": [
    "X_train2=select_feature.transform(X_train)\n",
    "X_test2=select_feature.transform(X_test)"
   ]
  },
  {
   "cell_type": "code",
   "execution_count": null,
   "id": "8ef98496",
   "metadata": {},
   "outputs": [],
   "source": [
    "# Building model \n",
    "Cl_RF2=RandomForestClassifier() \n",
    "Cl_RF2=Cl_RF2.fit(X_train2,y_train)"
   ]
  },
  {
   "cell_type": "code",
   "execution_count": null,
   "id": "9e6cff41",
   "metadata": {},
   "outputs": [],
   "source": [
    "# predicrtion \n",
    "Y_pred2 =Cl_RF2.predict(X_test2)"
   ]
  },
  {
   "cell_type": "code",
   "execution_count": null,
   "id": "98068b5b",
   "metadata": {
    "scrolled": true
   },
   "outputs": [],
   "source": [
    "# Accuracy\n",
    "AC=accuracy_score(y_test,Y_pred2)\n",
    "print('The Accuracy : ',AC)\n",
    "cm=confusion_matrix(y_test,Y_pred2)\n",
    "\n",
    "sns.heatmap(cm,annot=True,fmt='d',)"
   ]
  },
  {
   "cell_type": "code",
   "execution_count": null,
   "id": "bd62c4cd",
   "metadata": {},
   "outputs": [],
   "source": [
    "#modelo 2 SVC"
   ]
  },
  {
   "cell_type": "code",
   "execution_count": null,
   "id": "71c0cd54",
   "metadata": {},
   "outputs": [],
   "source": [
    "from sklearn.svm import SVC\n",
    "svc = SVC()\n",
    "svc.fit(X_train, y_train)"
   ]
  },
  {
   "cell_type": "code",
   "execution_count": null,
   "id": "326177c2",
   "metadata": {},
   "outputs": [],
   "source": [
    "y_pred_svc =svc.predict(X_test)\n",
    "y_pred_svc.shape"
   ]
  },
  {
   "cell_type": "code",
   "execution_count": null,
   "id": "63ac8300",
   "metadata": {},
   "outputs": [],
   "source": [
    "cm = confusion_matrix(y_test, y_pred_svc)\n",
    "print(\"Confusion matrix:\\n\",cm)"
   ]
  },
  {
   "cell_type": "code",
   "execution_count": null,
   "id": "e00822ea",
   "metadata": {},
   "outputs": [],
   "source": [
    "from sklearn.metrics import classification_report\n",
    "creport = classification_report(y_test, y_pred_svc)\n",
    "print(\"Classification report:\\n\",creport)"
   ]
  },
  {
   "cell_type": "code",
   "execution_count": null,
   "id": "5631a31c",
   "metadata": {},
   "outputs": [],
   "source": [
    "#modelo 3 REGRESIÓN LOGÍSTICA"
   ]
  },
  {
   "cell_type": "code",
   "execution_count": null,
   "id": "4d0086e7",
   "metadata": {},
   "outputs": [],
   "source": [
    "from sklearn.linear_model import LogisticRegression\n",
    "\n",
    "# Create logistic regression model\n",
    "lr = LogisticRegression()\n",
    "\n",
    "# Train the model on the training data\n",
    "lr.fit(X_train, y_train)\n",
    "\n",
    "# Predict the target variable on the test data\n",
    "y_pred = lr.predict(X_test)"
   ]
  },
  {
   "cell_type": "code",
   "execution_count": null,
   "id": "f3464105",
   "metadata": {},
   "outputs": [],
   "source": [
    "from sklearn.metrics import accuracy_score\n",
    "\n",
    "# Evaluate the accuracy of the model\n",
    "accuracy = accuracy_score(y_test, y_pred)\n",
    "print(f'Accuracy: {accuracy:.2f}')"
   ]
  },
  {
   "cell_type": "code",
   "execution_count": null,
   "id": "a0aa9f33",
   "metadata": {},
   "outputs": [],
   "source": [
    "from sklearn.metrics import classification_report\n",
    "print(classification_report(y_test,y_pred))"
   ]
  }
 ],
 "metadata": {
  "kernelspec": {
   "display_name": "Python 3 (ipykernel)",
   "language": "python",
   "name": "python3"
  },
  "language_info": {
   "codemirror_mode": {
    "name": "ipython",
    "version": 3
   },
   "file_extension": ".py",
   "mimetype": "text/x-python",
   "name": "python",
   "nbconvert_exporter": "python",
   "pygments_lexer": "ipython3",
   "version": "3.9.13"
  },
  "papermill": {
   "default_parameters": {},
   "duration": 25.965251,
   "end_time": "2022-08-11T08:00:35.978274",
   "environment_variables": {},
   "exception": null,
   "input_path": "__notebook__.ipynb",
   "output_path": "__notebook__.ipynb",
   "parameters": {},
   "start_time": "2022-08-11T08:00:10.013023",
   "version": "2.3.4"
  }
 },
 "nbformat": 4,
 "nbformat_minor": 5
}
